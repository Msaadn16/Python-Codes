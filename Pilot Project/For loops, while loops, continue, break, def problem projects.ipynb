{
 "cells": [
  {
   "cell_type": "markdown",
   "id": "a41d1774",
   "metadata": {},
   "source": [
    "# Task 1\n",
    "You are creating a Python program to simulate a simple guessing game. The game will have the following rules:\n",
    "\n",
    "1.The program will generate a random number between 1 and 50 and store it in a variable called \"secret_number.\" For this, you will need to import randint() from the random library in python. Run the following line of code in a cell: from random import randint\n",
    "\n",
    "2.The user will be given 5 attempts to guess the \"secret_number.\"\n",
    "\n",
    "3.The program will use a while loop to repeatedly ask the user for their guess and provide feedback based on their input. (Remember that input() returns a string even if the user enters a number.) \n",
    "\n",
    "4.First, handle the case where the user enters a non-numeric input. For this, you will need to add a try/except block. Google the syntax and under the try block, convert the guess into an int. If the entry is non-numeric, this conversion should fail and python will go to the except block. Under the except block, handle this error by printing \"Invalid input! Please enter a valid number” and utilize the continue statement to allow the user to try again without reducing their remaining attempts.\n",
    "\n",
    "5.If the user guesses the correct number, print \"Congratulations! You guessed the secret number [secret_number] correctly!\" and break out of the loop.\n",
    "\n",
    "6.If the user's guess is too high, print \"Try again! Your guess is too high. You have [attempts_left] attempts left.\" where \"attempts_left\" is the number of remaining attempts.\n",
    "\n",
    "7.If the user's guess is too low, print \"Try again! Your guess is too low. You have [attempts_left] attempts left.\"\n",
    "\n",
    "8.If the user runs out of attempts, print \"Game Over! The secret number was [secret_number]. Better luck next time!\" and break out of the loop.\n"
   ]
  },
  {
   "cell_type": "code",
   "execution_count": 53,
   "id": "61852405",
   "metadata": {},
   "outputs": [
    {
     "name": "stdout",
     "output_type": "stream",
     "text": [
      "------ WELCOME TO THE GUESSING GAME------\n",
      "Guess a number between (1-50). You have 5 attempts left!: 50\n",
      "Your guess is too high. You have 4 attempts left.\n",
      "\n",
      "\n",
      "Guess a number between (1-50). You have 4 attempts left!: 40\n",
      "Your guess is too high. You have 3 attempts left.\n",
      "\n",
      "\n",
      "Guess a number between (1-50). You have 3 attempts left!: 30\n",
      "Your guess is too low. You have 2 attempts left.\n",
      "\n",
      "\n",
      "Guess a number between (1-50). You have 2 attempts left!: 35\n",
      "Your guess is too low. You have 1 attempts left.\n",
      "\n",
      "\n",
      "Guess a number between (1-50). You have 1 attempts left!: 34\n",
      "Your guess is too low. You have 0 attempts left.\n",
      "\n",
      "\n",
      "\n",
      "Game Over! The secret number was 38. Better luck next time!\n"
     ]
    }
   ],
   "source": [
    "print(\"------ WELCOME TO THE GUESSING GAME------\")\n",
    "from random import randint\n",
    "secret_number=randint(1,50)\n",
    "\n",
    "attempts=5\n",
    "while attempts>0:\n",
    "    try:\n",
    "        guess=int(input(f\"Guess a number between (1-50). You have {attempts} attempts left!: \"))\n",
    "        \n",
    "        if guess==secret_number:\n",
    "            \n",
    "            print(f'Congratulations! You guessed the secret number {secret_number} correctly with {attempts-1} attempts remaining!')\n",
    "            break\n",
    "        elif guess>secret_number:\n",
    "            \n",
    "            print(f'Your guess is too high. You have {attempts-1} attempts left.')\n",
    "            print(\"\\n\")\n",
    "        else:\n",
    "            \n",
    "            print(f'Your guess is too low. You have {attempts-1} attempts left.')\n",
    "            print(\"\\n\")\n",
    "        \n",
    "        attempts-=1\n",
    "    except ValueError:\n",
    "        print(f'Invalid input! Please enter a valid number')\n",
    "        print(\"\\n\")\n",
    "        continue\n",
    "if attempts==0:\n",
    "    print(f\"\\nGame Over! The secret number was {secret_number}. Better luck next time!\")\n",
    "    "
   ]
  },
  {
   "cell_type": "markdown",
   "id": "17c6f9ad",
   "metadata": {},
   "source": [
    "# Task 2:"
   ]
  },
  {
   "cell_type": "markdown",
   "id": "fdc76557",
   "metadata": {},
   "source": [
    "# a)\n",
    "Write a function called num_vowels that takes in a string as an argument, and returns the number of vowels in that string. Print out the result for the string “Learning Python is fun and engaging.”"
   ]
  },
  {
   "cell_type": "code",
   "execution_count": 42,
   "id": "2eb825ea",
   "metadata": {},
   "outputs": [
    {
     "name": "stdout",
     "output_type": "stream",
     "text": [
      "Enter a string: Learning Python is fun and engaging.\n",
      "10\n"
     ]
    }
   ],
   "source": [
    "# Vowels COunter\n",
    "def num_vowel():\n",
    "    \n",
    "    string=str(input(\"Enter a string: \"))\n",
    "    vowels=\"aeiouAEIOU\"\n",
    "    count=0\n",
    "    for x in vowels:\n",
    "        if x in string:\n",
    "            count=count+string.count(x)\n",
    "    print(count)\n",
    "\n",
    "num_vowel()"
   ]
  },
  {
   "cell_type": "markdown",
   "id": "5cfcbfe7",
   "metadata": {},
   "source": [
    "# b)\n",
    "Create a function called hours_to_min that converts hours into minutes. The function should take the number of hours as input and return the equivalent number of minutes. Test the function with 2.5 hours and print the result."
   ]
  },
  {
   "cell_type": "code",
   "execution_count": 50,
   "id": "d02843de",
   "metadata": {},
   "outputs": [
    {
     "name": "stdout",
     "output_type": "stream",
     "text": [
      "Enter hours: 1.2\n",
      "minutes = 72.0\n"
     ]
    }
   ],
   "source": [
    "# Hours to Min\n",
    "def hour_min():\n",
    "    try:\n",
    "        hour=float(input(\"Enter hours: \"))\n",
    "        print(\"minutes =\", hour*60)\n",
    "    except ValueError:\n",
    "        print(\"Invalid input\")\n",
    "\n",
    "hour_min()"
   ]
  },
  {
   "cell_type": "markdown",
   "id": "f846e4c8",
   "metadata": {},
   "source": [
    "# c) \n",
    "Write a python function that takes in a number as an argument, and prints out the table of that number up to 12 times that number. You may name this whatever you wish."
   ]
  },
  {
   "cell_type": "code",
   "execution_count": 44,
   "id": "c2996798",
   "metadata": {},
   "outputs": [
    {
     "name": "stdout",
     "output_type": "stream",
     "text": [
      "1 x 8 = 8\n",
      "2 x 8 = 16\n",
      "3 x 8 = 24\n",
      "4 x 8 = 32\n",
      "5 x 8 = 40\n",
      "6 x 8 = 48\n",
      "7 x 8 = 56\n",
      "8 x 8 = 64\n",
      "9 x 8 = 72\n",
      "10 x 8 = 80\n",
      "11 x 8 = 88\n",
      "12 x 8 = 96\n"
     ]
    }
   ],
   "source": [
    "# Multiplication table\n",
    "def multi_table(number):\n",
    "    for i in range(1,13):\n",
    "        print(f'{i} x {number} = {i*number}')\n",
    "\n",
    "multi_table(8)"
   ]
  },
  {
   "cell_type": "markdown",
   "id": "6277cf98",
   "metadata": {},
   "source": [
    "# d)\n",
    "In your previous assignment, you wrote code that checks if a student is eligible for admission to a university. Turn that code into a function called eligibility. The function should take two arguments: the student's age and their previous GPA. The eligibility criteria are as follows:\n",
    "\n",
    "The student must be at least 18 years old.\n",
    "\n",
    "The student's previous GPA must be 3.0 or higher on a scale of 4.0.\n",
    "\n",
    "The function should return True if the student meets both criteria, otherwise, return False. Test the function with different ages and GPAs with and without keywords for example: \n",
    "eligibility(30, 3.2) (will depend on which order you provided the positional arguments in the definition) eligibility(GPA = 2.9, age = 40)"
   ]
  },
  {
   "cell_type": "code",
   "execution_count": 45,
   "id": "85e96ff2",
   "metadata": {},
   "outputs": [
    {
     "name": "stdout",
     "output_type": "stream",
     "text": [
      "True\n"
     ]
    }
   ],
   "source": [
    "# Eligibility of admission on the basis of Age and CGPA\n",
    "def eligibility(age,CGPA):\n",
    "    if age>=float(18):\n",
    "        if CGPA>=float(3):\n",
    "            if CGPA>float(4):\n",
    "                print(\"Invalid CGPA\")\n",
    "            else:\n",
    "                print(True)\n",
    "        elif CGPA<0:\n",
    "            print(\"Invalid CGPA\")\n",
    "        else:\n",
    "            print(False)\n",
    "\n",
    "    else:\n",
    "        print(False)\n",
    "\n",
    "\n",
    "eligibility(19,3)"
   ]
  }
 ],
 "metadata": {
  "kernelspec": {
   "display_name": "Python 3 (ipykernel)",
   "language": "python",
   "name": "python3"
  },
  "language_info": {
   "codemirror_mode": {
    "name": "ipython",
    "version": 3
   },
   "file_extension": ".py",
   "mimetype": "text/x-python",
   "name": "python",
   "nbconvert_exporter": "python",
   "pygments_lexer": "ipython3",
   "version": "3.11.5"
  }
 },
 "nbformat": 4,
 "nbformat_minor": 5
}
