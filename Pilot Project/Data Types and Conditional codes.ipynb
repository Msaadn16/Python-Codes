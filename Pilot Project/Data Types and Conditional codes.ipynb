{
 "cells": [
  {
   "cell_type": "markdown",
   "id": "6e44ef54",
   "metadata": {},
   "source": [
    "# Task 1: Variables and Data Types\n",
    "a) Create three variables: one for storing your age (integer), one for your name (string), and one to\n",
    "check if you are a student (Boolean). Print the variables.\n",
    "b) Perform the following operations and print the results:\n",
    "- Add 25 to your age variable.\n",
    "- Concatenate your name with the string &quot;Smith.&quot;\n",
    "- Negate the Boolean variable (if True, make it False, and vice versa)."
   ]
  },
  {
   "cell_type": "code",
   "execution_count": 102,
   "id": "91ecfe53",
   "metadata": {},
   "outputs": [
    {
     "name": "stdout",
     "output_type": "stream",
     "text": [
      "Enter your age: 25\n",
      "Enter your name: Saad\n",
      "\n",
      "Concatenated name = Saad Smith\n",
      "\n",
      "Negated Answer = True\n"
     ]
    }
   ],
   "source": [
    "age=int(input(\"Enter your age: \"))\n",
    "name=str(input(\"Enter your name: \"))\n",
    "student= False\n",
    "# 1) Add 25 in console\n",
    "\n",
    "# 2) Conactenate \"Smith\"\n",
    "print(\"\\nConcatenated name =\",name, \"Smith\")\n",
    "\n",
    "# 3) Negate the Answer\n",
    "print(\"\\nNegated Answer =\",not student)\n"
   ]
  },
  {
   "cell_type": "markdown",
   "id": "46bea700",
   "metadata": {},
   "source": [
    "# Task 2: Expressions and Operators\n",
    "a) A rectangle has a width of 5.5 units and a height of 3.25 units. Store width and height in variables.\n",
    "Create a new variable called area and write an expression to calculate the area. Print the area in the\n",
    "output.\n",
    "\n",
    "b) Create a temperature variable in Celsius. Convert it to Fahrenheit using the formula: F = (C * 9/5) + 32. Store this temperature in a variable called Fahrenheit and print this variable.\n",
    "\n",
    "c) Create a variable called radius and give it a value of 5. Calculate the area of a circle with this radius\n",
    "and store it in a variable called area. Print area at the end of your code. (Use the formula: area = π *\n",
    "radius^2, where π (pi) is approximately 3.14159)."
   ]
  },
  {
   "cell_type": "code",
   "execution_count": 26,
   "id": "e89dc7dd",
   "metadata": {},
   "outputs": [
    {
     "name": "stdout",
     "output_type": "stream",
     "text": [
      "width:  5.5 units\n",
      "height:  3.25 units\n",
      "Area of rectangle= 17.875 unit^2\n",
      "\n",
      "Enter the Temperature(°C): 32\n",
      "Temperature in Fahrenheit:  89.6 °F\n",
      "\n",
      "Radius of circle = 5 cm\n",
      "Area of Circle=  78.53975 cm2\n"
     ]
    }
   ],
   "source": [
    "# Area of Rectangle\n",
    "width=5.5\n",
    "print(\"width: \", width,\"units\")\n",
    "height=3.25\n",
    "print(\"height: \", height, \"units\")\n",
    "\n",
    "area=width*height\n",
    "print(\"Area of rectangle=\", area,\"unit2\")\n",
    "\n",
    "# Temperature\n",
    "Temp_C=float(input(\"\\nEnter the Temperature(°C): \"))\n",
    "\n",
    "Temp_F=(Temp_C*9/5)+32\n",
    "print(\"Temperature in Fahrenheit: \",Temp_F,\"°F\")\n",
    "\n",
    "# Area of circle\n",
    "radius=5\n",
    "π=3.14159\n",
    "print(\"\\nRadius of circle =\",radius,\"cm\")\n",
    "\n",
    "area=π*(radius)**2\n",
    "print('Area of Circle= ',area,'cm2')"
   ]
  },
  {
   "cell_type": "markdown",
   "id": "d658bc06",
   "metadata": {},
   "source": [
    "# Task 3: Introduction to Data Structures\n",
    "a) Create a list called &quot;fruits&quot; containing the following fruits: \"apple\",\"banana\",\"orange\",\"grape\", and \"kiwi\". Print the list.\n",
    "\n",
    "b) Create a tuple named &quot;months&quot; with the names of the first three months of the year. Print the\n",
    "tuple."
   ]
  },
  {
   "cell_type": "code",
   "execution_count": 30,
   "id": "ae2855a9",
   "metadata": {},
   "outputs": [
    {
     "name": "stdout",
     "output_type": "stream",
     "text": [
      "List of fruits is:  ['apple', 'banana', 'orange', 'grape', 'kiwi']\n",
      "First three months of the year are {'January', 'February', 'March'}\n"
     ]
    }
   ],
   "source": [
    "# List of Fruits\n",
    "fruits=[\"apple\",\"banana\",\"orange\",\"grape\",\"kiwi\"]\n",
    "print(\"List of fruits is: \",fruits)\n",
    "\n",
    "# Tuple of Months\n",
    "Months={\"January\",\"February\",\"March\"}\n",
    "print(\"First three months of the year are\",Months)"
   ]
  },
  {
   "cell_type": "markdown",
   "id": "581a0545",
   "metadata": {},
   "source": [
    "# Task 4: List Manipulation\n",
    "a) Given the list of numbers below, write a Python program to calculate the sum and average of\n",
    "these numbers. Print both results.\n",
    "numbers = [12, 34, 45, 67, 89, 100, 23, 56]\n",
    "\n",
    "b) Remove the first and last elements from the &quot;fruits&quot; list created earlier. Print the updated list."
   ]
  },
  {
   "cell_type": "code",
   "execution_count": 33,
   "id": "04500235",
   "metadata": {},
   "outputs": [
    {
     "name": "stdout",
     "output_type": "stream",
     "text": [
      "sum of numbers is 426\n",
      "average of numbers is 53.25\n"
     ]
    }
   ],
   "source": [
    "num=[12, 34, 45, 67, 89, 100, 23, 56]\n",
    "sum_num=sum(num)\n",
    "print(\"sum of numbers is\",sum_num)\n",
    "\n",
    "avg_num=sum_num/len(num)\n",
    "print(\"average of numbers is\",avg_num)"
   ]
  },
  {
   "cell_type": "markdown",
   "id": "709668bb",
   "metadata": {},
   "source": [
    "# Task 5: Dictionary Operations\n",
    "a) Create a dictionary named &quot;capitals&quot; with three key-value pairs: &quot;USA&quot; - &quot;Washington D.C.,&quot;\n",
    "&quot;France&quot; - &quot;Paris,&quot; and &quot;Japan&quot; - &quot;Tokyo.&quot; Print the dictionary.\n",
    "\n",
    "b) Add a new country and its capital to the &quot;capitals&quot; dictionary. The country is &quot;Germany,&quot; and the\n",
    "capital is &quot;Berlin.&quot; Print the updated dictionary.\n",
    "\n",
    "c) Check if &quot;France&quot; exists in the &quot;capitals&quot; dictionary. If it does, print &quot;France is in the dictionary,&quot;\n",
    "otherwise, print &quot;France is not in the dictionary.&quot; (at the end of the lab notebook for session 1, I have\n",
    "added an example of how to use “in” in python)."
   ]
  },
  {
   "cell_type": "code",
   "execution_count": 42,
   "id": "07ac4ab3",
   "metadata": {},
   "outputs": [
    {
     "name": "stdout",
     "output_type": "stream",
     "text": [
      "Dictionary of Country:Capital= {'USA': 'Washington D.C', 'France': 'Paris', 'Japan': 'Tokyo'}\n",
      "Updated Dictionary of Country:Capital= {'USA': 'Washington D.C', 'France': 'Paris', 'Japan': 'Tokyo', 'Germany': 'Berlin'}\n"
     ]
    }
   ],
   "source": [
    "# Capitals\n",
    "capitals={\"USA\":\"Washington D.C\", \"France\":\"Paris\", \"Japan\":\"Tokyo\"}\n",
    "print(\"Dictionary of Country:Capital=\",capitals)\n",
    "\n",
    "# Added Capital\n",
    "capitals[\"Germany\"]=\"Berlin\"\n",
    "print(\"Updated Dictionary of Country:Capital=\",capitals)"
   ]
  },
  {
   "cell_type": "markdown",
   "id": "8f7a85e3",
   "metadata": {},
   "source": [
    "# Task 6: Comparison Operators, Logical Operators and If/Else:\n",
    "a) Create a variable called number that takes user input (we studied the input() function). Next,\n",
    "write a block of code that checks if the number is even or odd (hint: modulo operator. Refer to lab\n",
    "notebook 1).\n",
    "Your output should print “The number is even”, or the “The number is odd”.\n",
    "b) Create two variables called age and GPA. Give them values of your choice. Next, write a block of\n",
    "code to check if a student with this age and GPA is eligible for admission. The following are the\n",
    "conditions:\n",
    "- The student must be at least 18 years old.\n",
    "- The student&#39;s GPA must be 3.0 or higher on a scale of 4.0.\n",
    "Your output should print “Eligible for admission” or “Not eligible for admission”."
   ]
  },
  {
   "cell_type": "code",
   "execution_count": 104,
   "id": "d06e8a26",
   "metadata": {},
   "outputs": [
    {
     "name": "stdout",
     "output_type": "stream",
     "text": [
      "a) Even or Odd?\n",
      "\n",
      "Enter a number = 24\n",
      "The number is even.\n",
      "\n",
      "b) Admission Elegibility\n",
      "Enter your age: 25\n",
      "Enter your CGPA: 3.67\n",
      "\n",
      "Eligible for admission!\n"
     ]
    }
   ],
   "source": [
    "# Even or odd\n",
    "print(\"a) Even or Odd?\\n\")\n",
    "numm=float(input(\"Enter a number = \"))\n",
    "if numm%2==0:\n",
    "    print(\"The number is even.\")\n",
    "else:\n",
    "    print(\"The number is odd.\")\n",
    "    \n",
    "# Admission Elegibility\n",
    "print(\"\\nb) Admission Elegibility\")\n",
    "Age=int(input(\"Enter your age: \"))\n",
    "\n",
    "if Age>=18:\n",
    "    CGPA=float(input(\"Enter your CGPA: \"))\n",
    "    if CGPA>=3.0 and CGPA<=4.0:\n",
    "        print(\"\\nEligible for admission!\")\n",
    "    else:\n",
    "        print(\"\\nNot eligible for admission\")\n",
    "else:\n",
    "    print(\"\\nNot eligible for admission\")"
   ]
  },
  {
   "cell_type": "markdown",
   "id": "d2b88a77",
   "metadata": {},
   "source": [
    "# Task 7: Advanced Data Types\n",
    "a) Create a set named &quot;fruits_set&quot; containing the following fruits: &quot;apple,&quot; &quot;banana,&quot; &quot;orange,&quot;\n",
    "&quot;grape,&quot; and &quot;kiwi.&quot; Print the set.\n",
    "\n",
    "b) Given two sets:\n",
    "\n",
    "set1 = {1, 2, 3, 4, 5}\n",
    "\n",
    "set2 = {3, 4, 5, 6, 7}\n",
    "\n",
    "Write Python code to perform the following operations and print the results:\n",
    "- Union of set1 and set2.\n",
    "- Intersection of set1 and set2.\n",
    "- Difference between set1 and set2.\n",
    "- Check if set1 is a subset of set2."
   ]
  },
  {
   "cell_type": "code",
   "execution_count": 74,
   "id": "65d30923",
   "metadata": {},
   "outputs": [
    {
     "name": "stdout",
     "output_type": "stream",
     "text": [
      "The set of Fruits is: {'banana', 'orange', 'apple', 'grape', 'kiwi'}\n",
      "\n",
      "Uninon of set1 and set2 is {1, 2, 3, 4, 5, 6, 7}\n",
      "\n",
      "Intersection of set1 and set2 is {3, 4, 5}\n",
      "\n",
      "differnce of set1 and set2 is {1, 2}\n",
      "\n",
      "set1 is subset of set2:  False\n"
     ]
    }
   ],
   "source": [
    "fruits_set={\"apple\",\"banana\",\"orange\",\"grape\",\"kiwi\"}\n",
    "print(\"The set of Fruits is:\",fruits_set)\n",
    "\n",
    "set1={1,2,3,4,5}\n",
    "set2={3,4,5,6,7}\n",
    "\n",
    "union=set1.union(set2)\n",
    "print(\"\\nUninon of set1 and set2 is\",union)\n",
    "\n",
    "intersection=set1.intersection(set2)\n",
    "print(\"\\nIntersection of set1 and set2 is\",intersection)\n",
    "\n",
    "\n",
    "difference=set1.difference(set2)\n",
    "print(\"\\ndiffernce of set1 and set2 is\",difference)\n",
    "\n",
    "subset=set1.issubset(set2)\n",
    "print(\"\\nset1 is subset of set2: \",subset)"
   ]
  },
  {
   "cell_type": "markdown",
   "id": "f1dc001f",
   "metadata": {},
   "source": [
    "# Task 8: Strings Manipulation\n",
    "a) Create a string variable containing the following sentence:\n",
    "&quot;Python programming is fun and powerful!&quot;\n",
    "Write Python code to do the following and print the results:\n",
    "- Find the length of the string.\n",
    "- Convert the string to uppercase.\n",
    "- Replace &quot;fun&quot; with &quot;exciting.&quot;\n",
    "- Check if the string contains the word &quot;Python.&quot;\n",
    "- Split the string into a list of words."
   ]
  },
  {
   "cell_type": "code",
   "execution_count": 101,
   "id": "4d9b84c5",
   "metadata": {},
   "outputs": [
    {
     "name": "stdout",
     "output_type": "stream",
     "text": [
      "Python programming is fun and powerful\n",
      "\n",
      "Length of the string is  38\n",
      "\n",
      "String in upper case:  PYTHON PROGRAMMING IS FUN AND POWERFUL\n",
      "\n",
      "'fun' replaced with 'exciting': Python programming is exciting and powerful\n",
      "\n",
      "Contains Word \"Python\"\n",
      "\n",
      "Converted to list:  ['Python', 'programming', 'is', 'fun', 'and', 'powerful']\n"
     ]
    }
   ],
   "source": [
    "string=\"Python programming is fun and powerful\"\n",
    "print(string)\n",
    "# Length of string\n",
    "print(\"\\nLength of the string is \",len(string))\n",
    "# Convert the string to uppercase.\n",
    "print(\"\\nString in upper case: \",string.upper())\n",
    "# Replace \"fun\" with \"exciting.\"\n",
    "print(\"\\n'fun' replaced with 'exciting':\",string.replace(\"fun\",\"exciting\"))\n",
    "# Check if the string contains the word \"Python.\"\n",
    "if string.find(\"Python\")!=-1:\n",
    "    print(\"\\nContains Word \\\"Python\\\"\")\n",
    "else:\n",
    "    print(\"\\nDoesn't contain Word \\\"Python\\\"\")\n",
    "# Split the string into a list of words.\n",
    "print(\"\\nConverted to list: \",string.split(\" \"))"
   ]
  }
 ],
 "metadata": {
  "kernelspec": {
   "display_name": "Python 3 (ipykernel)",
   "language": "python",
   "name": "python3"
  },
  "language_info": {
   "codemirror_mode": {
    "name": "ipython",
    "version": 3
   },
   "file_extension": ".py",
   "mimetype": "text/x-python",
   "name": "python",
   "nbconvert_exporter": "python",
   "pygments_lexer": "ipython3",
   "version": "3.11.5"
  }
 },
 "nbformat": 4,
 "nbformat_minor": 5
}
